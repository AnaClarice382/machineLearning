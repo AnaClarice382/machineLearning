{
  "nbformat": 4,
  "nbformat_minor": 0,
  "metadata": {
    "colab": {
      "name": "Com_Pipeline",
      "provenance": [],
      "collapsed_sections": [],
      "authorship_tag": "ABX9TyPchynZy65xX/UBzvt8Yo88",
      "include_colab_link": true
    },
    "kernelspec": {
      "name": "python3",
      "display_name": "Python 3"
    },
    "language_info": {
      "name": "python"
    }
  },
  "cells": [
    {
      "cell_type": "markdown",
      "metadata": {
        "id": "view-in-github",
        "colab_type": "text"
      },
      "source": [
        "<a href=\"https://colab.research.google.com/github/AnaClarice382/machineLearning/blob/master/Com_Pipeline.ipynb\" target=\"_parent\"><img src=\"https://colab.research.google.com/assets/colab-badge.svg\" alt=\"Open In Colab\"/></a>"
      ]
    },
    {
      "cell_type": "code",
      "metadata": {
        "id": "Qbt6Q3yecbUC"
      },
      "source": [
        "from sklearn.datasets import load_boston\n",
        "from sklearn.model_selection import train_test_split\n",
        "from sklearn.preprocessing import StandardScaler, RobustScaler, QuantileTransformer\n",
        "from sklearn.feature_selection import SelectKBest, f_regression\n",
        "from sklearn.decomposition import PCA\n",
        "from sklearn.linear_model import Ridge"
      ],
      "execution_count": 1,
      "outputs": []
    },
    {
      "cell_type": "code",
      "metadata": {
        "id": "Zn-LWziycmx2"
      },
      "source": [
        "data = load_boston() "
      ],
      "execution_count": 2,
      "outputs": []
    },
    {
      "cell_type": "code",
      "metadata": {
        "id": "cl_wBF1rcoZj"
      },
      "source": [
        "X_train, X_test, y_train, y_test = train_test_split(data['data'], data['target'], random_state=1)"
      ],
      "execution_count": 3,
      "outputs": []
    },
    {
      "cell_type": "code",
      "metadata": {
        "id": "8quvDvVhdP-4"
      },
      "source": [
        "from sklearn.pipeline import Pipeline\n",
        "pipe = Pipeline([('scaler', StandardScaler()),\n",
        "                ('reduce_dim', PCA()),\n",
        "                ('regressor', Ridge())\n",
        "                ])"
      ],
      "execution_count": 14,
      "outputs": []
    },
    {
      "cell_type": "code",
      "metadata": {
        "colab": {
          "base_uri": "https://localhost:8080/"
        },
        "id": "87hK5O_jd7-n",
        "outputId": "cbe9e0d6-d092-4d08-bc8f-cbc4c2fe22a8"
      },
      "source": [
        "pipe.fit(X_train, y_train)"
      ],
      "execution_count": 15,
      "outputs": [
        {
          "output_type": "execute_result",
          "data": {
            "text/plain": [
              "Pipeline(memory=None,\n",
              "         steps=[('scaler',\n",
              "                 StandardScaler(copy=True, with_mean=True, with_std=True)),\n",
              "                ('reduce_dim',\n",
              "                 PCA(copy=True, iterated_power='auto', n_components=None,\n",
              "                     random_state=None, svd_solver='auto', tol=0.0,\n",
              "                     whiten=False)),\n",
              "                ('regressor',\n",
              "                 Ridge(alpha=1.0, copy_X=True, fit_intercept=True,\n",
              "                       max_iter=None, normalize=False, random_state=None,\n",
              "                       solver='auto', tol=0.001))],\n",
              "         verbose=False)"
            ]
          },
          "metadata": {
            "tags": []
          },
          "execution_count": 15
        }
      ]
    },
    {
      "cell_type": "code",
      "metadata": {
        "colab": {
          "base_uri": "https://localhost:8080/"
        },
        "id": "y7QVglMQeoT9",
        "outputId": "85edc3f2-0baf-47d5-9210-9f2fbee61633"
      },
      "source": [
        "pipe.predict(X_test)"
      ],
      "execution_count": 16,
      "outputs": [
        {
          "output_type": "execute_result",
          "data": {
            "text/plain": [
              "array([32.26710632, 27.97204968, 18.0833921 , 21.68419347, 18.89662905,\n",
              "       19.99467375, 32.17829025, 18.09600034, 24.68684386, 26.86219062,\n",
              "       27.17614326, 28.61023827, 21.22362576, 26.90363587, 23.35820094,\n",
              "       20.82150658, 17.11941734, 37.71657431, 30.50085477,  8.52528766,\n",
              "       20.86585636, 16.27210772, 25.13735499, 24.78869886, 31.36512807,\n",
              "       11.02631629, 13.86547297, 16.93375072, 35.91173504, 14.68792534,\n",
              "       21.37372682, 14.18948646, 42.60168082, 17.84423765, 21.97559034,\n",
              "       20.44449456, 17.50665288, 27.04186022,  9.74878625, 19.97439168,\n",
              "       24.39301866, 21.10029321, 29.4190454 , 16.45049583, 19.35175498,\n",
              "       14.57881079, 39.385924  , 18.07497911, 26.18814474, 20.63125754,\n",
              "       25.0756845 , 24.48210215, 25.04490635, 26.81989364,  5.18126185,\n",
              "       24.10816867, 10.74502062, 26.81055636, 16.84458143, 35.46747185,\n",
              "       19.49818404, 27.43032939, 16.55260158, 19.10396041, 11.03803936,\n",
              "       32.00707447, 36.31291568, 22.04458958, 24.79087994, 25.30010863,\n",
              "       23.39747862,  6.97770242, 16.7828742 , 20.31680933, 20.76911833,\n",
              "       21.81703919, 34.10832402, 27.9733872 , 24.90951802, 34.3351016 ,\n",
              "       18.65205323, 24.04621774, 34.46173103, 13.35639779, 20.83925897,\n",
              "       30.15677927, 17.06952113, 24.23690579, 19.21838764, 17.02656118,\n",
              "       26.80603713, 41.00666949, 14.59853859, 23.28167887, 14.94841286,\n",
              "       21.95007579, 22.83860158, 29.0680054 , 36.67002627, 20.46082764,\n",
              "       17.81889846, 17.51159161, 25.08539624, 21.98725354,  8.29315767,\n",
              "       21.56035593, 16.44849008, 32.96124247, 24.46454429, 25.12166019,\n",
              "       38.25477321, 28.90226283, 14.85040371, 34.63904988, 35.45294308,\n",
              "       32.94041562, 20.97894412, 16.71110864, 34.18543731, 38.98634141,\n",
              "       21.68757744, 15.72991743, 27.35660143, 18.73901417, 27.24991097,\n",
              "       21.19601292, 25.98840929])"
            ]
          },
          "metadata": {
            "tags": []
          },
          "execution_count": 16
        }
      ]
    },
    {
      "cell_type": "code",
      "metadata": {
        "id": "iImaUHq8ewH1"
      },
      "source": [
        ""
      ],
      "execution_count": null,
      "outputs": []
    }
  ]
}